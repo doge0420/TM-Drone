{
 "cells": [
  {
   "cell_type": "code",
   "execution_count": 1,
   "metadata": {},
   "outputs": [],
   "source": [
    "import cv2\n",
    "import numpy as np\n",
    "import utils"
   ]
  },
  {
   "cell_type": "code",
   "execution_count": 2,
   "metadata": {},
   "outputs": [],
   "source": [
    "video = cv2.VideoCapture(0)\n",
    "\n",
    "def track(x):\n",
    "    pass\n",
    "\n",
    "cv2.namedWindow(\"trackbar\")\n",
    "\n",
    "# cv2.createTrackbar(\"low_h\", \"trackbar\", 0, 180, track)    #par defaut\n",
    "# cv2.createTrackbar(\"low_s\", \"trackbar\", 0, 255, track)\n",
    "# cv2.createTrackbar(\"low_v\", \"trackbar\", 0, 255, track)\n",
    "# cv2.createTrackbar(\"hi_h\", \"trackbar\", 180, 180, track)\n",
    "# cv2.createTrackbar(\"hi_s\", \"trackbar\", 255, 255, track)\n",
    "# cv2.createTrackbar(\"hi_v\", \"trackbar\", 255, 255, track)\n",
    "\n",
    "cv2.createTrackbar(\"low_h\", \"trackbar\", 110, 180, track)    #pour detecter le bleu\n",
    "cv2.createTrackbar(\"low_s\", \"trackbar\", 150, 255, track)\n",
    "cv2.createTrackbar(\"low_v\", \"trackbar\", 20, 255, track)\n",
    "cv2.createTrackbar(\"hi_h\", \"trackbar\", 130, 180, track)\n",
    "cv2.createTrackbar(\"hi_s\", \"trackbar\", 255, 255, track)\n",
    "cv2.createTrackbar(\"hi_v\", \"trackbar\", 255, 255, track)\n"
   ]
  },
  {
   "cell_type": "code",
   "execution_count": 3,
   "metadata": {},
   "outputs": [
    {
     "name": "stdout",
     "output_type": "stream",
     "text": [
      "276 472\n",
      "258 448\n",
      "248 409\n",
      "243 366\n",
      "238 331\n",
      "238 304\n",
      "240 286\n",
      "241 274\n",
      "245 266\n",
      "249 261\n",
      "253 257\n",
      "256 252\n",
      "259 249\n",
      "263 244\n",
      "263 244\n",
      "269 235\n",
      "273 232\n",
      "277 229\n",
      "281 228\n",
      "284 228\n",
      "287 229\n",
      "290 229\n",
      "290 229\n",
      "291 229\n",
      "291 229\n",
      "290 230\n",
      "291 231\n",
      "290 233\n",
      "290 234\n",
      "288 235\n",
      "287 234\n",
      "287 234\n",
      "287 234\n",
      "287 234\n",
      "287 234\n",
      "288 234\n",
      "287 235\n",
      "288 236\n"
     ]
    }
   ],
   "source": [
    "while True:\n",
    "    success, img = video.read()\n",
    "    image = cv2.cvtColor(img, cv2.COLOR_BGR2HSV)\n",
    "    \n",
    "    low_h = cv2.getTrackbarPos(\"low_h\", \"trackbar\")\n",
    "    low_s = cv2.getTrackbarPos(\"low_s\", \"trackbar\")\n",
    "    low_v = cv2.getTrackbarPos(\"low_v\", \"trackbar\")\n",
    "    hi_h = cv2.getTrackbarPos(\"hi_h\", \"trackbar\")\n",
    "    hi_s = cv2.getTrackbarPos(\"hi_s\", \"trackbar\")\n",
    "    hi_v = cv2.getTrackbarPos(\"hi_v\", \"trackbar\")\n",
    "    \n",
    "    lower = np.array([low_h, low_s, low_v])\n",
    "    upper = np.array([hi_h, hi_s, hi_v])\n",
    "    \n",
    "    mask = cv2.inRange(image, lower, upper)\n",
    "    \n",
    "    contours, hierarchy = cv2.findContours(mask, cv2.RETR_EXTERNAL, cv2.CHAIN_APPROX_SIMPLE)\n",
    "    \n",
    "    if len(contours) != 0:\n",
    "        for contour in contours:\n",
    "            if cv2.contourArea(contour) > 300:\n",
    "                rect = cv2.minAreaRect(contour)\n",
    "                box = cv2.boxPoints(rect)\n",
    "                box = np.int0(box)\n",
    "                cv2.drawContours(img, [box], 0, (0,0,255), 2)\n",
    "                x, y = utils.getcenter(box)\n",
    "                print(x, y)\n",
    "                cv2.circle(img, (x, y), radius=10, color=(0,255,0), thickness=-1)\n",
    "\n",
    "            # if cv2.contourArea(contour) > 300:      #pixels\n",
    "            #     x, y, w, h = cv2.boundingRect(contour)\n",
    "            #     cv2.circle(img, (int((2*x+w)/2), int((2*y+h)/2)), radius=10, color=(0,255,0), thickness=-1)\n",
    "            #     cv2.rectangle(img, (x,y), (x+w, y+h), (0,0,255), 3)\n",
    "            #     # print(f\"position:{x,y}\")\n",
    "            #     # getdirection.getpixel(mask, x, y, w, h)\n",
    "    \n",
    "    cv2.imshow(\"mask\", mask), cv2.imshow(\"image\", img)\n",
    "    \n",
    "    if cv2.waitKey(1) & 0xFF == ord(\"q\"):\n",
    "        cv2.destroyAllWindows()\n",
    "        break"
   ]
  }
 ],
 "metadata": {
  "interpreter": {
   "hash": "7c34b709f3716ab06e56cc32de01858fc6073149805de1adccdc0a157bae38d0"
  },
  "kernelspec": {
   "display_name": "Python 3.8.12 ('drone')",
   "language": "python",
   "name": "python3"
  },
  "language_info": {
   "codemirror_mode": {
    "name": "ipython",
    "version": 3
   },
   "file_extension": ".py",
   "mimetype": "text/x-python",
   "name": "python",
   "nbconvert_exporter": "python",
   "pygments_lexer": "ipython3",
   "version": "3.7.9"
  },
  "orig_nbformat": 4
 },
 "nbformat": 4,
 "nbformat_minor": 2
}
